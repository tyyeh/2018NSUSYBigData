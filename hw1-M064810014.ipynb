{
 "cells": [
  {
   "cell_type": "code",
   "execution_count": 14,
   "metadata": {},
   "outputs": [
    {
     "name": "stdout",
     "output_type": "stream",
     "text": [
      "289 = 289 * 1\n",
      "289 = 17 * 17\n",
      "289 = 1 * 289\n",
      "75 = 75 * 1\n",
      "75 = 25 * 3\n",
      "75 = 15 * 5\n",
      "75 = 5 * 15\n",
      "75 = 3 * 25\n",
      "75 = 1 * 75\n",
      "81 = 81 * 1\n",
      "81 = 27 * 3\n",
      "81 = 9 * 9\n",
      "81 = 3 * 27\n",
      "81 = 1 * 81\n",
      "7 = 7 * 1\n",
      "7 = 1 * 7\n"
     ]
    }
   ],
   "source": [
    "a= [289, 75, 81, 7]\n",
    "i=0\n",
    "while(i<len(a)):\n",
    "    j=1\n",
    "    while(j<=b[i]):\n",
    "        if a[i]%j==0 :\n",
    "            k = a[i]/j\n",
    "            print('{} = {} * {}'.format(a[i],k,j))\n",
    "        j+=1\n",
    "    i+=1"
   ]
  },
  {
   "cell_type": "code",
   "execution_count": 1,
   "metadata": {},
   "outputs": [],
   "source": [
    "#針對一串字串 進行因數分解"
   ]
  },
  {
   "cell_type": "code",
   "execution_count": null,
   "metadata": {},
   "outputs": [],
   "source": []
  }
 ],
 "metadata": {
  "kernelspec": {
   "display_name": "Python 2",
   "language": "python",
   "name": "python2"
  },
  "language_info": {
   "codemirror_mode": {
    "name": "ipython",
    "version": 2
   },
   "file_extension": ".py",
   "mimetype": "text/x-python",
   "name": "python",
   "nbconvert_exporter": "python",
   "pygments_lexer": "ipython2",
   "version": "2.7.14"
  }
 },
 "nbformat": 4,
 "nbformat_minor": 2
}
